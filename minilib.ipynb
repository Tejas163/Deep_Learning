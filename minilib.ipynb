{
  "nbformat": 4,
  "nbformat_minor": 0,
  "metadata": {
    "colab": {
      "provenance": [],
      "authorship_tag": "ABX9TyN2Xctx8GG7E0hrfoIvU+bz",
      "include_colab_link": true
    },
    "kernelspec": {
      "name": "python3",
      "display_name": "Python 3"
    },
    "language_info": {
      "name": "python"
    }
  },
  "cells": [
    {
      "cell_type": "markdown",
      "metadata": {
        "id": "view-in-github",
        "colab_type": "text"
      },
      "source": [
        "<a href=\"https://colab.research.google.com/github/Tejas163/Deep_Learning/blob/main/minilib.ipynb\" target=\"_parent\"><img src=\"https://colab.research.google.com/assets/colab-badge.svg\" alt=\"Open In Colab\"/></a>"
      ]
    },
    {
      "cell_type": "code",
      "execution_count": 6,
      "metadata": {
        "colab": {
          "base_uri": "https://localhost:8080/"
        },
        "id": "Xh-_wcjEg-S3",
        "outputId": "317a0089-d4eb-4a7e-9531-e170d7fa7485"
      },
      "outputs": [
        {
          "output_type": "stream",
          "name": "stdout",
          "text": [
            "NDArray(shape=(2, 3), strides=(1, 1), offset=0)\n",
            "NDArray(shape=(2, 3), strides=(1, 1), offset=0)\n",
            "NDArray(shape=(3, 2), strides=None, offset=0)\n",
            "NDArray(shape=(3, 2), strides=(1, 1), offset=0)\n"
          ]
        },
        {
          "output_type": "execute_result",
          "data": {
            "text/plain": [
              "NDArray(shape=(2, 3), strides=(1, 1), offset=0)"
            ]
          },
          "metadata": {},
          "execution_count": 6
        }
      ],
      "source": [
        "# prompt: there are five fields within the NDArray class that you'll need to be familiar with (note that the real class member these all these fields is preceded by an underscore, e.g., _handle, _strides, etc, some of which are then exposed as a public property ... for all your code it's fine to use the internal, underscored version).\n",
        "# device - A object of type BackendDevice, which is a simple wrapper that contains a link to the underlying device backend (e.g., CPU or CUDA).\n",
        "# handle - A class objected that stores the underlying memory of the array. This is allocated as a class of type device.Array(), though this allocation all happens in the provided code (specifically the NDArray.make function), and you don't need to worry about calling it yourself.\n",
        "# shape - A tuple specifying the size of each dimension in the array.\n",
        "# strides - A tuple specifying the strides of each dimension in the array.\n",
        "# offset - An integer indicating where in the underlying device.Array memory the array actually starts (it's convenient to store this so we can more easily manage pointing back to existing memory, without having to track allocations).\n",
        "# Of particular importance for many of your Python implementations will be the NDArray.make call:\n",
        "# def make(shape, strides=None, device=None, handle=None, offset=0):\n",
        "# which creates a new NDArray with the given shape, strides, device, handle, and offset. If handle is not specified (i.e., no pre-existing memory is referenced), then the call will allocate the needed memory, but if handle is specified then no new memory is allocated, but the new NDArray points the same memory as the old one\n",
        "\n",
        "class BackendDevice:\n",
        "    def __init__(self):\n",
        "        pass  # Replace with actual device initialization if needed\n",
        "\n",
        "\n",
        "class NDArray:\n",
        "    def __init__(self, device, handle, shape, strides, offset):\n",
        "        self._device = device\n",
        "        self._handle = handle\n",
        "        self._shape = shape\n",
        "        self._strides = strides\n",
        "        self._offset = offset\n",
        "\n",
        "    @classmethod\n",
        "    def make(cls, shape, strides=None, device=None, handle=None, offset=0):\n",
        "        if handle is None:\n",
        "            # Allocate new memory if handle is not provided.\n",
        "            # Replace with actual memory allocation based on device and shape\n",
        "            # For demonstration, using a placeholder\n",
        "            handle = object()\n",
        "\n",
        "        if device is None:\n",
        "            device = BackendDevice()\n",
        "\n",
        "        if strides is None:\n",
        "            # Calculate default strides if not given\n",
        "            strides = tuple([1] * len(shape))\n",
        "\n",
        "        return cls(device, handle, shape, strides, offset)\n",
        "\n",
        "    def __repr__(self):\n",
        "        return f\"NDArray(shape={self._shape}, strides={self._strides}, offset={self._offset})\"\n",
        "\n",
        "    def reshape(self, new_shape):\n",
        "      curr_size=1\n",
        "      for dim in self._shape:\n",
        "        curr_size*=dim\n",
        "\n",
        "      new_size=1\n",
        "      for dim in new_shape:\n",
        "        new_size*=dim\n",
        "\n",
        "      if curr_size!=new_size:\n",
        "          raise ValueError(\"Product of current shape is not equal to the product of the new shape.\")\n",
        "\n",
        "      return NDArray(self._device, self._handle, new_shape, None, self._offset)  # strides will be recalculated if needed\n",
        "\n",
        "    def permute(self, new_axes):\n",
        "        new_shape = tuple(self._shape[i] for i in new_axes)\n",
        "        new_strides = tuple(self._strides[i] for i in new_axes)\n",
        "\n",
        "        return NDArray(self._device, self._handle, new_shape, new_strides, self._offset)\n",
        "\n",
        "\n",
        "# Example usage\n",
        "array = NDArray.make((2, 3))\n",
        "print(array)\n",
        "\n",
        "\n",
        "# Example usage\n",
        "array = NDArray.make((2, 3))\n",
        "print(array)\n",
        "\n",
        "reshaped_array = array.reshape((3,2))\n",
        "print(reshaped_array)\n",
        "\n",
        "premute_array = array.permute((1,0))\n",
        "print(premute_array)\n",
        "\n",
        "# Creating an array referencing existing memory (demonstration)\n",
        "existing_array = NDArray.make((2, 3))\n",
        "new_array = NDArray.make((2, 3), handle=existing_array._handle)\n",
        "new_array"
      ]
    },
    {
      "cell_type": "markdown",
      "source": [
        "Part1"
      ],
      "metadata": {
        "id": "zg5-VSN1mgJo"
      }
    },
    {
      "cell_type": "code",
      "source": [
        "# prompt: def reshape(self, new_shape):\n",
        "#         \"\"\"\n",
        "#         Reshape the matrix without copying memory.  This will return a matrix\n",
        "#         that corresponds to a reshaped array but points to the same memory as\n",
        "#         the original array.\n",
        "#         Raises:\n",
        "#             ValueError if product of current shape is not equal to the product\n",
        "#             of the new shape, or if the matrix is not compact.\n",
        "#         Args:\n",
        "#             new_shape (tuple): new shape of the array\n",
        "#         Returns:\n",
        "#             NDArray : reshaped array; this will point to thep\n",
        "#         \"\"\"\n",
        "def reshape(self, new_shape):\n",
        "        \"\"\"\n",
        "        Reshape the matrix without copying memory.  This will return a matrix\n",
        "        that corresponds to a reshaped array but points to the same memory as\n",
        "        the original array.\n",
        "        Raises:\n",
        "            ValueError if product of current shape is not equal to the product\n",
        "            of the new shape, or if the matrix is not compact.\n",
        "        Args:\n",
        "            new_shape (tuple): new shape of the array\n",
        "        Returns:\n",
        "            NDArray : reshaped array; this will point to thep\n",
        "        \"\"\"\n",
        "        current_size = 1\n",
        "        for dim in self._shape:\n",
        "            current_size *= dim\n",
        "\n",
        "        new_size = 1\n",
        "        for dim in new_shape:\n",
        "            new_size *= dim\n",
        "\n",
        "        if current_size != new_size:\n",
        "            raise ValueError(\"Product of current shape is not equal to the product of the new shape.\")\n",
        "\n",
        "        #  Add check for compact matrix if needed\n",
        "        #  if not self.is_compact():\n",
        "        #    raise ValueError(\"The matrix is not compact.\")\n",
        "\n",
        "        return NDArray(self._device, self._handle, new_shape, None, self._offset)  # strides will be recalculated if needed\n"
      ],
      "metadata": {
        "colab": {
          "base_uri": "https://localhost:8080/",
          "height": 228
        },
        "id": "fRzgRi1bl4Qr",
        "outputId": "1ee5f1bc-f7f2-4bb9-e493-00211e4950f2"
      },
      "execution_count": 3,
      "outputs": [
        {
          "output_type": "stream",
          "name": "stdout",
          "text": [
            "NDArray(shape=(2, 3), strides=(1, 1), offset=0)\n"
          ]
        },
        {
          "output_type": "error",
          "ename": "AttributeError",
          "evalue": "'NDArray' object has no attribute 'reshape'",
          "traceback": [
            "\u001b[0;31m---------------------------------------------------------------------------\u001b[0m",
            "\u001b[0;31mAttributeError\u001b[0m                            Traceback (most recent call last)",
            "\u001b[0;32m<ipython-input-3-dc089acf5b83>\u001b[0m in \u001b[0;36m<cell line: 49>\u001b[0;34m()\u001b[0m\n\u001b[1;32m     47\u001b[0m \u001b[0mprint\u001b[0m\u001b[0;34m(\u001b[0m\u001b[0marray\u001b[0m\u001b[0;34m)\u001b[0m\u001b[0;34m\u001b[0m\u001b[0;34m\u001b[0m\u001b[0m\n\u001b[1;32m     48\u001b[0m \u001b[0;34m\u001b[0m\u001b[0m\n\u001b[0;32m---> 49\u001b[0;31m \u001b[0mreshaped_array\u001b[0m \u001b[0;34m=\u001b[0m \u001b[0marray\u001b[0m\u001b[0;34m.\u001b[0m\u001b[0mreshape\u001b[0m\u001b[0;34m(\u001b[0m\u001b[0;34m(\u001b[0m\u001b[0;36m3\u001b[0m\u001b[0;34m,\u001b[0m\u001b[0;36m2\u001b[0m\u001b[0;34m)\u001b[0m\u001b[0;34m)\u001b[0m\u001b[0;34m\u001b[0m\u001b[0;34m\u001b[0m\u001b[0m\n\u001b[0m\u001b[1;32m     50\u001b[0m \u001b[0mprint\u001b[0m\u001b[0;34m(\u001b[0m\u001b[0mreshaped_array\u001b[0m\u001b[0;34m)\u001b[0m\u001b[0;34m\u001b[0m\u001b[0;34m\u001b[0m\u001b[0m\n\u001b[1;32m     51\u001b[0m \u001b[0;34m\u001b[0m\u001b[0m\n",
            "\u001b[0;31mAttributeError\u001b[0m: 'NDArray' object has no attribute 'reshape'"
          ]
        }
      ]
    },
    {
      "cell_type": "markdown",
      "source": [
        "Permute method"
      ],
      "metadata": {
        "id": "YAQfy2K90J_k"
      }
    },
    {
      "cell_type": "code",
      "source": [
        "# prompt: def permute(self, new_axes):\n",
        "#         \"\"\"\n",
        "#         Permute order of the dimensions.  new_axes describes a permuation of the\n",
        "#         existing axes, so e.g.:\n",
        "#           - If we have an array with dimension \"BHWC\" then .permute((0,3,1,2))\n",
        "#             would convert this to \"BCHW\" order.\n",
        "#           - For a 2D array, .permute((1,0)) would transpose the array.\n",
        "#         Like reshape, this operation should not copy memory, but achieves the\n",
        "#         permuting by just adjusting the shape/strides of the array.  That is,\n",
        "#         it returns a new array that has the dimensions permuted as desired, but\n",
        "#         which points to the same memroy as the original array.\n",
        "#         Args:\n",
        "#             new_axes (tuple): permuation order of the dimensions\n",
        "#         Returns:\n",
        "#             NDarray : new NDArray object with permuted dimensions, pointing\n",
        "#             to the same memory as the original NDArray (i.e., just shape and\n",
        "#             strides changed).\n",
        "#         \"\"\"\n",
        "\n",
        "def permute(self, new_axes):\n",
        "        \"\"\"\n",
        "        Permute order of the dimensions.  new_axes describes a permuation of the\n",
        "        existing axes, so e.g.:\n",
        "          - If we have an array with dimension \"BHWC\" then .permute((0,3,1,2))\n",
        "            would convert this to \"BCHW\" order.\n",
        "          - For a 2D array, .permute((1,0)) would transpose the array.\n",
        "        Like reshape, this operation should not copy memory, but achieves the\n",
        "        permuting by just adjusting the shape/strides of the array.  That is,\n",
        "        it returns a new array that has the dimensions permuted as desired, but\n",
        "        which points to the same memroy as the original array.\n",
        "        Args:\n",
        "            new_axes (tuple): permuation order of the dimensions\n",
        "        Returns:\n",
        "            NDarray : new NDArray object with permuted dimensions, pointing\n",
        "            to the same memory as the original NDArray (i.e., just shape and\n",
        "            strides changed).\n",
        "        \"\"\"\n",
        "\n",
        "        new_shape = tuple(self._shape[i] for i in new_axes)\n",
        "        new_strides = tuple(self._strides[i] for i in new_axes)\n",
        "\n",
        "        return NDArray(self._device, self._handle, new_shape, new_strides, self._offset)"
      ],
      "metadata": {
        "id": "nsBDsQUv0OSp"
      },
      "execution_count": null,
      "outputs": []
    }
  ]
}